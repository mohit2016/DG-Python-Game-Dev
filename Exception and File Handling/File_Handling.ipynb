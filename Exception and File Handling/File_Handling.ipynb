{
  "nbformat": 4,
  "nbformat_minor": 0,
  "metadata": {
    "colab": {
      "name": "File Handling",
      "provenance": []
    },
    "kernelspec": {
      "name": "python3",
      "display_name": "Python 3"
    }
  },
  "cells": [
    {
      "cell_type": "code",
      "metadata": {
        "id": "0PLpBX1hq6KS"
      },
      "source": [
        "s = \"This is a string.. I'm happy\""
      ],
      "execution_count": 1,
      "outputs": []
    },
    {
      "cell_type": "code",
      "metadata": {
        "id": "ina9qb1jsMaS"
      },
      "source": [
        "# Creating a New File\n",
        "with open(\"new_file.txt\", 'w') as f:\n",
        "  f.write(s)"
      ],
      "execution_count": 2,
      "outputs": []
    },
    {
      "cell_type": "code",
      "metadata": {
        "colab": {
          "base_uri": "https://localhost:8080/"
        },
        "id": "HLKKmdoFskrx",
        "outputId": "a0e7cfbd-82aa-462a-ebfa-db7894b77d76"
      },
      "source": [
        "# read a file\n",
        "with open(\"new_file.txt\", 'r') as f:\n",
        "  print(f.read())\n"
      ],
      "execution_count": 4,
      "outputs": [
        {
          "output_type": "stream",
          "text": [
            "This is a string.. I'm happy\n"
          ],
          "name": "stdout"
        }
      ]
    },
    {
      "cell_type": "code",
      "metadata": {
        "colab": {
          "base_uri": "https://localhost:8080/"
        },
        "id": "VOs4cOo3tsVt",
        "outputId": "a43606fc-70ba-4556-8759-1bfb86d3f482"
      },
      "source": [
        "with open(\"new_file.txt\", 'r') as f:\n",
        "  print(f.tell()) # --> tells the pointer location\n",
        "  print(f.read(5))# --> reads your data\n",
        "  print(f.tell())\n",
        "  print(f.read(10))\n",
        "  print(f.tell())\n",
        "  f.seek(0) # ----> jo bhi index daaloge vahan pe pointer chala jaega.\n",
        "  print(f.tell())\n",
        "  print(f.read())"
      ],
      "execution_count": 9,
      "outputs": [
        {
          "output_type": "stream",
          "text": [
            "0\n",
            "This \n",
            "5\n",
            "is a strin\n",
            "15\n",
            "0\n",
            "This is a string.. I'm happy\n"
          ],
          "name": "stdout"
        }
      ]
    },
    {
      "cell_type": "code",
      "metadata": {
        "id": "bcZmVZQauNW5"
      },
      "source": [
        "#  reading the 10th character\n",
        "\n",
        "# f.seek(10)\n",
        "# f.read(1)"
      ],
      "execution_count": null,
      "outputs": []
    },
    {
      "cell_type": "code",
      "metadata": {
        "id": "fdv5UY8Yv7ys"
      },
      "source": [
        "new_str = \"\"\"This is first line.\n",
        "This is second line.\n",
        "This is third line\"\"\""
      ],
      "execution_count": 10,
      "outputs": []
    },
    {
      "cell_type": "code",
      "metadata": {
        "colab": {
          "base_uri": "https://localhost:8080/"
        },
        "id": "UEsFdbH5wE7k",
        "outputId": "e87cfd59-4dfb-4ed8-8769-707e661057d0"
      },
      "source": [
        "print(new_str)"
      ],
      "execution_count": 11,
      "outputs": [
        {
          "output_type": "stream",
          "text": [
            "This is first line.\n",
            "This is second line.\n",
            "This is third line\n"
          ],
          "name": "stdout"
        }
      ]
    },
    {
      "cell_type": "code",
      "metadata": {
        "id": "_obfnI5CwGk3"
      },
      "source": [
        "with open(\"multi_line.txt\", 'w') as f:\n",
        "  f.write(new_str)"
      ],
      "execution_count": 12,
      "outputs": []
    },
    {
      "cell_type": "code",
      "metadata": {
        "colab": {
          "base_uri": "https://localhost:8080/"
        },
        "id": "8HB56qprwQE1",
        "outputId": "d50afb39-f8eb-4edd-9cde-45d2b85e8195"
      },
      "source": [
        "with open(\"multi_line.txt\",'r') as f:\n",
        "  file_data = f.readlines()\n",
        "  f.seek(0)\n",
        "  for line in f.readlines():\n",
        "    print(line)"
      ],
      "execution_count": 21,
      "outputs": [
        {
          "output_type": "stream",
          "text": [
            "This is first line.\n",
            "\n",
            "This is second line.\n",
            "\n",
            "This is third line\n"
          ],
          "name": "stdout"
        }
      ]
    },
    {
      "cell_type": "code",
      "metadata": {
        "colab": {
          "base_uri": "https://localhost:8080/"
        },
        "id": "CJcp-CR5wcuA",
        "outputId": "00eb7bab-2835-4117-a63b-29510226aa1e"
      },
      "source": [
        "print(file_data)"
      ],
      "execution_count": 18,
      "outputs": [
        {
          "output_type": "stream",
          "text": [
            "['This is first line.\\n', 'This is second line.\\n', 'This is third line']\n"
          ],
          "name": "stdout"
        }
      ]
    },
    {
      "cell_type": "code",
      "metadata": {
        "id": "hdwuktViweTX"
      },
      "source": [
        "# Append MOde...\n",
        "with open(\"multi_line.txt\", 'a') as f:\n",
        "  f.write(\"\\nThis will be new content\")"
      ],
      "execution_count": 26,
      "outputs": []
    },
    {
      "cell_type": "code",
      "metadata": {
        "id": "R3ZEvZKDxk3I"
      },
      "source": [
        ""
      ],
      "execution_count": null,
      "outputs": []
    }
  ]
}